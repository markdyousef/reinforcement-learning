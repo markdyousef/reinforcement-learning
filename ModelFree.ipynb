{
 "cells": [
  {
   "cell_type": "markdown",
   "metadata": {},
   "source": [
    "# Model-Free Methods"
   ]
  },
  {
   "cell_type": "markdown",
   "metadata": {},
   "source": [
    "#### Model-free prediction\n",
    "Estimate the value function of an unknown MDP\n",
    "\n",
    "#### Model-free control\n",
    "Optimise the value function of an unknown MDP"
   ]
  },
  {
   "cell_type": "markdown",
   "metadata": {},
   "source": [
    "## Monte-Carlo Learning"
   ]
  },
  {
   "cell_type": "markdown",
   "metadata": {},
   "source": [
    "* learns directly from episodes of experience\n",
    "* no knowledge of MDP transitions/rewards (model-free)\n",
    "* learns from complete episodes: **no bootstrapping**\n",
    "* value = mean return\n",
    "* requires episodic MDP (must terminate)"
   ]
  },
  {
   "cell_type": "markdown",
   "metadata": {},
   "source": [
    "### First-Visit Monte-Carlo Policy Evaluation"
   ]
  },
  {
   "cell_type": "markdown",
   "metadata": {},
   "source": [
    "The **first** time-step $t$ that state $s$ is visited in an episode\n",
    "* Increment counter $N(s) \\leftarrow N(s)+1$\n",
    "* Increment total return $S(s) \\leftarrow S(s)+G_t$\n",
    "\n",
    "Value is estimated by mean return $V(s)=S(s)/N(s)$\n",
    "\n",
    "By law of large numbers, $V(s) \\rightarrow v_\\pi(s)$ as $N(s)\\rightarrow \\infty$"
   ]
  },
  {
   "cell_type": "markdown",
   "metadata": {},
   "source": [
    "### Every-Visit Monte-Carlo Policy Evaluation"
   ]
  },
  {
   "cell_type": "markdown",
   "metadata": {},
   "source": [
    "**Every** time-step $t$ that state $s$ is visited in an episode\n",
    "* Increment counter $N(s) \\leftarrow N(s)+1$\n",
    "* Increment total return $S(s) \\leftarrow S(s)+G_t$\n",
    "\n",
    "Value is estimated by mean return $V(s)=S(s)/N(s)$\n",
    "\n",
    "By law of large numbers, $V(s) \\rightarrow v_\\pi(s)$ as $N(s)\\rightarrow \\infty$"
   ]
  },
  {
   "cell_type": "markdown",
   "metadata": {},
   "source": [
    "### Incremental Monte-Carlo Updates"
   ]
  },
  {
   "cell_type": "markdown",
   "metadata": {},
   "source": [
    "For each state $S_t$ with return $G_t$\n",
    "* $N(S_t) \\leftarrow N(S_t)+1$\n",
    "* $V(S_t) \\leftarrow V(S_t)+ \\frac{1}{N(S_t)}(G_t-V(S_t))$"
   ]
  },
  {
   "cell_type": "markdown",
   "metadata": {},
   "source": [
    "In non-stationary probles, it can be useful to track a runnning mean, i.e. forget old episodes\n",
    "\n",
    "$$V(S_t) \\leftarrow V(S_t)+\\alpha(G_t-V(S_t))$$"
   ]
  },
  {
   "cell_type": "markdown",
   "metadata": {},
   "source": [
    "## Temporal-Difference Learning"
   ]
  },
  {
   "cell_type": "markdown",
   "metadata": {},
   "source": [
    "* learns directly from episodes of experience\n",
    "* no knowledge of MDP transitions/rewards\n",
    "* learns from incomplete episodes, by **bootstrapping**\n",
    "* updates a guess towards a guess"
   ]
  },
  {
   "cell_type": "markdown",
   "metadata": {},
   "source": [
    "### TD(0)"
   ]
  },
  {
   "cell_type": "markdown",
   "metadata": {},
   "source": [
    "Update value $V(S_t)$ toward estimated return $R_{t+1}+\\gamma V(S_{t+1})$\n",
    "$$ V(S_t)\\leftarrow V(S_t)+\\alpha(R_{t+1}+\\gamma V(S_{t+1})-V(S_t))$$\n",
    "\n",
    "* $R_{t+1}+\\gamma V(S_{t+1})$ is called the **TD target**\n",
    "* $\\delta_t=R_{t+1}+\\gamma V(S_{t+1})-V(S_t)$ is called the **TD error**"
   ]
  },
  {
   "cell_type": "markdown",
   "metadata": {},
   "source": [
    "### TD($\\lambda$)"
   ]
  },
  {
   "cell_type": "markdown",
   "metadata": {},
   "source": [
    "### n-Step"
   ]
  },
  {
   "cell_type": "markdown",
   "metadata": {},
   "source": [
    "n-step return:\n",
    "$$G_t^{(n)} = R_{t+1}+\\gamma R_{t+2}+...+\\gamma^{n-1}R_{t+n}+\\gamma^n V(S_{t+n})$$"
   ]
  },
  {
   "cell_type": "markdown",
   "metadata": {},
   "source": [
    "n-step temporal difference learning:\n",
    "$$ V(S_t)\\leftarrow V(S_t)+\\alpha(G_t^{(n)}-V(S_t))$$"
   ]
  },
  {
   "cell_type": "markdown",
   "metadata": {},
   "source": [
    "#### Forward View of TD($\\lambda$)"
   ]
  },
  {
   "cell_type": "markdown",
   "metadata": {},
   "source": [
    "The $\\lambda$-return $G_t^\\lambda$ combines all n-step returns $G_t^{(n)}$ using weight $(1-\\lambda)\\lambda^{n-1}$\n",
    "\n",
    "$$ G_t^\\lambda=(1-\\lambda)\\sum_{n=1}^{\\infty}\\lambda^{n-1}G_t^{(n)}$$"
   ]
  },
  {
   "cell_type": "markdown",
   "metadata": {},
   "source": [
    "Forward-view TD($\\lambda$)\n",
    "$$ V(S_t)\\leftarrow V(S_t)+\\alpha(G_t^\\lambda-V(S_t))$$"
   ]
  },
  {
   "cell_type": "markdown",
   "metadata": {},
   "source": [
    "#### Backward View of TD($\\lambda$)"
   ]
  },
  {
   "cell_type": "markdown",
   "metadata": {},
   "source": [
    "##### Eligibility Traces\n",
    "* Frequency heuristic: assign credit to most frequent states\n",
    "* Recency heurestic: assign credit to most recent states\n",
    "\n",
    "Eligibility traces combine both heuristics\n",
    "* $ E_0(s)=0 $\n",
    "* $ E_t(s)=\\gamma\\lambda E_{t-1}(s)+\\mathbb{1}(S_t=s)$"
   ]
  },
  {
   "cell_type": "markdown",
   "metadata": {},
   "source": [
    "* Keep an eligibility trace for every state $s$\n",
    "* Update the value $V(s)$ for every state $s$ in proportion to TD-error $\\delta_t$ and eligibility trace $E_t(s)$\n",
    "\n",
    "$$ \\delta_t = R_{t+1}+\\gamma V(S_{t+1})-V(S_t) $$\n",
    "$$ V(s)\\leftarrow V(s)+\\alpha\\delta_t E_t(s)$$ \n",
    "\n"
   ]
  },
  {
   "cell_type": "code",
   "execution_count": null,
   "metadata": {
    "collapsed": true
   },
   "outputs": [],
   "source": []
  }
 ],
 "metadata": {
  "kernelspec": {
   "display_name": "Python 3",
   "language": "python",
   "name": "python3"
  },
  "language_info": {
   "codemirror_mode": {
    "name": "ipython",
    "version": 3
   },
   "file_extension": ".py",
   "mimetype": "text/x-python",
   "name": "python",
   "nbconvert_exporter": "python",
   "pygments_lexer": "ipython3",
   "version": "3.6.1"
  }
 },
 "nbformat": 4,
 "nbformat_minor": 2
}
